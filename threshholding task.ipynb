{
 "cells": [
  {
   "cell_type": "code",
   "execution_count": null,
   "id": "1ceedd71",
   "metadata": {},
   "outputs": [],
   "source": [
    "import cv2 \n",
    "\n",
    "import numpy as np\n",
    "\n",
    "\n",
    "# global thresholding\n",
    "\n",
    "img = cv2.imread('gradient.png')\n",
    "\n",
    "_, th1 = cv2.threshold(img, 50, 255, cv2.THRESH_BINARY)\n",
    "\n",
    "_, th2 = cv2.threshold(img, 200, 255, cv2.THRESH_BINARY_INV)\n",
    "\n",
    "_, th3 = cv2.threshold(img, 127, 255, cv2.THRESH_TRUNC)\n",
    "\n",
    "_, th4 = cv2.threshold(img, 127, 255, cv2.THRESH_TOZERO)\n",
    "\n",
    "_, th5 = cv2.threshold(img, 127, 255, cv2.THRESH_TOZERO_INV)\n",
    "\n",
    "\n",
    "\n",
    "\n",
    "\n",
    "cv2.imshow(\"Image\", img)\n",
    "\n",
    "cv2.imshow(\"th1\", th1)\n",
    "\n",
    "cv2.imshow(\"th2\", th2)\n",
    "\n",
    "cv2.imshow(\"th3\", th3)\n",
    "\n",
    "cv2.imshow(\"th4\", th4)\n",
    "\n",
    "cv2.imshow(\"th5\", th5)\n",
    "\n",
    "\n",
    "\n",
    "cv2.waitKey(0)\n",
    "\n",
    "cv2.destroyAllWindows() "
   ]
  },
  {
   "cell_type": "code",
   "execution_count": null,
   "id": "fb912ecb",
   "metadata": {},
   "outputs": [],
   "source": [
    "# Adabtive thresholding\n",
    "\n",
    "\n",
    "img = cv2.imread('sudoku.png')\n",
    "\n",
    "_, th1 = cv2.threshold(img, 127, 255, cv2.THRESH_BINARY)\n",
    "\n",
    "th2 = cv2.adaptiveThreshold(img, 255, cv2.ADAPTIVE_THRESH_MEAN_C, cv2.THRESH_BINARY, 11, 2);\n",
    "\n",
    "th3 = cv2.adaptiveThreshold(img, 255, cv2.ADAPTIVE_THRESH_GAUSSIAN_C, cv2.THRESH_BINARY, 11, 2);\n",
    "\n",
    "\n",
    "\n",
    "cv2.imshow(\"Image\", img)\n",
    "\n",
    "cv2.imshow(\"THRESH_BINARY\", th1)\n",
    "\n",
    "cv2.imshow(\"ADAPTIVE_THRESH_MEAN_C\", th2)\n",
    "\n",
    "cv2.imshow(\"ADAPTIVE_THRESH_GAUSSIAN_C\", th3)\n",
    "\n",
    "\n",
    "\n",
    "cv2.waitKey(0)\n",
    "\n",
    "cv2.destroyAllWindows()"
   ]
  },
  {
   "cell_type": "code",
   "execution_count": null,
   "id": "4ab5ad29",
   "metadata": {},
   "outputs": [],
   "source": []
  }
 ],
 "metadata": {
  "kernelspec": {
   "display_name": "Python 3 (ipykernel)",
   "language": "python",
   "name": "python3"
  },
  "language_info": {
   "codemirror_mode": {
    "name": "ipython",
    "version": 3
   },
   "file_extension": ".py",
   "mimetype": "text/x-python",
   "name": "python",
   "nbconvert_exporter": "python",
   "pygments_lexer": "ipython3",
   "version": "3.9.13"
  }
 },
 "nbformat": 4,
 "nbformat_minor": 5
}
